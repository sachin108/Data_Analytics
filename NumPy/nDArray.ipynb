{
 "cells": [
  {
   "cell_type": "code",
   "execution_count": 2,
   "metadata": {},
   "outputs": [],
   "source": [
    "import numpy as np"
   ]
  },
  {
   "cell_type": "code",
   "execution_count": 15,
   "metadata": {},
   "outputs": [],
   "source": [
    "a=np.array([1,2,3,4,3])\n",
    "b=np.array([[1,2,3,4,3],[1,2,3,4,5]])"
   ]
  },
  {
   "cell_type": "code",
   "execution_count": 20,
   "metadata": {},
   "outputs": [
    {
     "name": "stdout",
     "output_type": "stream",
     "text": [
      "number of elements in array =  5\n",
      "number of subarrays in array 1\n",
      "number of subarrays in array 2\n",
      "data type of array elements int32\n",
      "dimensions of array (5,)\n",
      "dimensions of array (2, 5)\n",
      "dimensions of array 4\n"
     ]
    }
   ],
   "source": [
    "print(\"number of elements in array = \",a.size)\n",
    "print(\"number of subarrays in array\", a.ndim)\n",
    "print(\"number of subarrays in array\", b.ndim)\n",
    "print(\"data type of array elements\",a.dtype)\n",
    "print(\"dimensions/axes of array\",a.shape)\n",
    "print(\"dimensions of array\",b.shape)"
   ]
  },
  {
   "cell_type": "code",
   "execution_count": 22,
   "metadata": {},
   "outputs": [],
   "source": [
    "a=np.array([1,2,3,4,3], dtype=str)\n",
    "b=np.array([[1,2,3,4,3],[1,2,3,4,5]], dtype=complex)"
   ]
  },
  {
   "cell_type": "code",
   "execution_count": 24,
   "metadata": {},
   "outputs": [
    {
     "name": "stdout",
     "output_type": "stream",
     "text": [
      "['1' '2' '3' '4' '3']\n",
      "[[1.+0.j 2.+0.j 3.+0.j 4.+0.j 3.+0.j]\n",
      " [1.+0.j 2.+0.j 3.+0.j 4.+0.j 5.+0.j]]\n"
     ]
    }
   ],
   "source": [
    "print(a)\n",
    "print(b)"
   ]
  },
  {
   "cell_type": "code",
   "execution_count": 26,
   "metadata": {},
   "outputs": [],
   "source": [
    "#Intrinsic creation\n",
    "a=np.zeros((3))\n",
    "b=np.ones((3,1))\n",
    "#by default data type is float64"
   ]
  },
  {
   "cell_type": "code",
   "execution_count": 28,
   "metadata": {},
   "outputs": [
    {
     "name": "stdout",
     "output_type": "stream",
     "text": [
      "[0. 0. 0.]\n",
      "[[1.]\n",
      " [1.]\n",
      " [1.]]\n"
     ]
    }
   ],
   "source": [
    "print(a)\n",
    "print(b)"
   ]
  },
  {
   "cell_type": "code",
   "execution_count": 38,
   "metadata": {},
   "outputs": [],
   "source": [
    "a=np.arange(10)\n",
    "b=np.arange(4,10)\n",
    "c=np.arange(0,10,3)\n",
    "d=np.arange(8).reshape(2,4)\n",
    "\n",
    "#inclusive range"
   ]
  },
  {
   "cell_type": "code",
   "execution_count": 39,
   "metadata": {},
   "outputs": [
    {
     "name": "stdout",
     "output_type": "stream",
     "text": [
      "[0 1 2 3 4 5 6 7 8 9]\n",
      "[4 5 6 7 8 9]\n",
      "[0 3 6 9]\n",
      "[[0 1 2 3]\n",
      " [4 5 6 7]]\n"
     ]
    }
   ],
   "source": [
    "print(a)\n",
    "print(b)\n",
    "print(c)\n",
    "print(d)"
   ]
  },
  {
   "cell_type": "code",
   "execution_count": 41,
   "metadata": {},
   "outputs": [
    {
     "name": "stdout",
     "output_type": "stream",
     "text": [
      "[0.83915823 0.66570691 0.48195503]\n",
      "[[0.07539111 0.80674226]\n",
      " [0.46813374 0.91354587]]\n"
     ]
    }
   ],
   "source": [
    "#random\n",
    "print(np.random.random(3))\n",
    "print(np.random.random((2,2)))"
   ]
  },
  {
   "cell_type": "code",
   "execution_count": 44,
   "metadata": {},
   "outputs": [
    {
     "name": "stdout",
     "output_type": "stream",
     "text": [
      "[3 4 5 6 7]\n",
      "[ 2  4  6  8 10]\n",
      "[3 0 1 6 7]\n",
      "[ 2  4  6  8 11]\n"
     ]
    }
   ],
   "source": [
    "a=np.array([1,2,3,4,5])\n",
    "print(a+2)\n",
    "print(a*2)\n",
    "print(a^2)\n",
    "\n",
    "b=np.array([1,2,3,4,6])\n",
    "print(a+b)"
   ]
  },
  {
   "cell_type": "code",
   "execution_count": 47,
   "metadata": {},
   "outputs": [
    {
     "name": "stdout",
     "output_type": "stream",
     "text": [
      "[[ 15  12   9]\n",
      " [ 78  66  54]\n",
      " [141 120  99]]\n"
     ]
    }
   ],
   "source": [
    "#Matric Product\n",
    "a=np.arange(9).reshape(3,3)\n",
    "b=np.arange(10,1,-1).reshape(3,3)\n",
    "print(np.dot(a,b))\n",
    "#same\n",
    "print(a.dot(b))"
   ]
  },
  {
   "cell_type": "code",
   "execution_count": null,
   "metadata": {},
   "outputs": [],
   "source": [
    "#Universal Functions (ufunc)\n",
    "'''\n",
    "a function operating on an array in an \n",
    "element-by-element fashion. This means that it acts individually on each single element \n",
    "of the input array to generate a corresponding result in a new output array. In the end, \n",
    "you obtain an array of the same size as the input. \n",
    "sqrt()\n",
    "log()\n",
    "sin() ....\n",
    "'''"
   ]
  },
  {
   "cell_type": "code",
   "execution_count": 49,
   "metadata": {},
   "outputs": [
    {
     "name": "stdout",
     "output_type": "stream",
     "text": [
      "45\n",
      "0\n",
      "9\n",
      "4.5\n"
     ]
    }
   ],
   "source": [
    "#aggregate functions\n",
    "print(np.arange(10).sum())\n",
    "print(np.arange(10).min())\n",
    "print(np.arange(10).max())\n",
    "print(np.arange(10).mean())"
   ]
  },
  {
   "cell_type": "code",
   "execution_count": 54,
   "metadata": {},
   "outputs": [
    {
     "name": "stdout",
     "output_type": "stream",
     "text": [
      "[14 15 16 17]\n",
      "[10 13 16]\n",
      "14\n",
      "16\n",
      "[14 18 11]\n"
     ]
    }
   ],
   "source": [
    "#indexing and slincing\n",
    "a=np.arange(10,20)\n",
    "print(a[4:8])\n",
    "print(a[0:9:3])\n",
    "print(a[4])\n",
    "print(a[-4])\n",
    "print(a[[4,8,1]]) #can also select multiples"
   ]
  },
  {
   "cell_type": "code",
   "execution_count": 56,
   "metadata": {},
   "outputs": [
    {
     "name": "stdout",
     "output_type": "stream",
     "text": [
      "[3 4 5]\n",
      "[0 3 6]\n"
     ]
    }
   ],
   "source": [
    "#matrix slicing\n",
    "a=np.arange(9).reshape(3,3)\n",
    "print(a[1,:])  #second row\n",
    "print(a[:,0])  #first column"
   ]
  },
  {
   "cell_type": "code",
   "execution_count": 63,
   "metadata": {},
   "outputs": [
    {
     "name": "stdout",
     "output_type": "stream",
     "text": [
      "[0 1 2]\n",
      "[3 4 5]\n",
      "[6 7 8]\n",
      "0 1 2 3 4 5 6 7 8 "
     ]
    }
   ],
   "source": [
    "#iteration\n",
    "a=np.arange(9).reshape(3,3)\n",
    "for row in a:\n",
    "    print (row)\n",
    "\n",
    "for i in a.flat:\n",
    "    print(i, end=\" \")"
   ]
  },
  {
   "cell_type": "code",
   "execution_count": 65,
   "metadata": {},
   "outputs": [
    {
     "name": "stdout",
     "output_type": "stream",
     "text": [
      "[[ True  True  True]\n",
      " [False False  True]\n",
      " [ True False  True]]\n"
     ]
    }
   ],
   "source": [
    "#boolean ararys\n",
    "a=np.random.random((3,3))\n",
    "a=a>0.5\n",
    "print(a)"
   ]
  },
  {
   "cell_type": "code",
   "execution_count": 69,
   "metadata": {},
   "outputs": [
    {
     "name": "stdout",
     "output_type": "stream",
     "text": [
      "[[0 1]\n",
      " [2 3]]\n",
      "[0 1 2 3]\n"
     ]
    }
   ],
   "source": [
    "#2d array ro 1D\n",
    "a=np.arange(4).reshape((2,2))\n",
    "print(a)\n",
    "a=a.ravel()\n",
    "print(a)"
   ]
  }
 ],
 "metadata": {
  "interpreter": {
   "hash": "2be5faf79681da6f2a61fdfdd5405d65d042280f7fba6178067603e3a2925119"
  },
  "kernelspec": {
   "display_name": "Python 3.10.0 64-bit",
   "language": "python",
   "name": "python3"
  },
  "language_info": {
   "codemirror_mode": {
    "name": "ipython",
    "version": 3
   },
   "file_extension": ".py",
   "mimetype": "text/x-python",
   "name": "python",
   "nbconvert_exporter": "python",
   "pygments_lexer": "ipython3",
   "version": "3.10.0"
  },
  "orig_nbformat": 4
 },
 "nbformat": 4,
 "nbformat_minor": 2
}
