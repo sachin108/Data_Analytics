{
 "cells": [
  {
   "cell_type": "code",
   "execution_count": 3,
   "metadata": {},
   "outputs": [],
   "source": [
    "from pandas import *\n",
    "from numpy import *"
   ]
  },
  {
   "cell_type": "code",
   "execution_count": 22,
   "metadata": {},
   "outputs": [],
   "source": [
    "'''\n",
    "if there is error in reading csv file use |\n",
    "                                          V  \n",
    "f=pd.read_csv(filename,error_bad_lines=False, engine=\"python\")\n",
    "\n",
    "header=None will remove column names \n",
    "\n",
    "Parser engine to use. The C and pyarrow engines are faster, while the python \n",
    "engine is currently more feature-complete. Multithreading is currently only \n",
    "supported by the pyarrow engine.\n",
    "The names indicate the language in which the parsers are written.\n",
    "'''\n",
    "csvData=read_csv('Sample.csv')\n",
    "csvData2=read_table('Sample.csv', sep=',', header=None, engine='c')"
   ]
  },
  {
   "cell_type": "code",
   "execution_count": 14,
   "metadata": {},
   "outputs": [
    {
     "name": "stdout",
     "output_type": "stream",
     "text": [
      "              Name  \"Team\"         \"Position\"   \"Height(inches)\"  \\\n",
      "0  Ramon Hernandez   \"BAL\"          \"Catcher\"                 72   \n",
      "1     Kevin Millar   \"BAL\"    \"First Baseman\"                 72   \n",
      "2      Chris Gomez   \"BAL\"    \"First Baseman\"                 73   \n",
      "3    Brian Roberts   \"BAL\"   \"Second Baseman\"                 69   \n",
      "\n",
      "    \"Weight(lbs)\"   \"Age\"  \n",
      "0             210   30.78  \n",
      "1             210   35.43  \n",
      "2             188   35.71  \n",
      "3             176   29.39  \n"
     ]
    },
    {
     "data": {
      "text/plain": [
       "'\\nskip row number 1 and 2 and will rpint only first 4 lines\\n'"
      ]
     },
     "execution_count": 14,
     "metadata": {},
     "output_type": "execute_result"
    }
   ],
   "source": [
    "csvFile=read_csv('Sample.csv', skiprows=[1,2], nrows=4 )\n",
    "print(csvFile)\n",
    "\n",
    "\"\"\"\n",
    "skip row number 1 and 2 and will rpint only first 4 lines\n",
    "\"\"\""
   ]
  }
 ],
 "metadata": {
  "interpreter": {
   "hash": "2be5faf79681da6f2a61fdfdd5405d65d042280f7fba6178067603e3a2925119"
  },
  "kernelspec": {
   "display_name": "Python 3.10.0 64-bit",
   "language": "python",
   "name": "python3"
  },
  "language_info": {
   "codemirror_mode": {
    "name": "ipython",
    "version": 3
   },
   "file_extension": ".py",
   "mimetype": "text/x-python",
   "name": "python",
   "nbconvert_exporter": "python",
   "pygments_lexer": "ipython3",
   "version": "3.9.7"
  },
  "orig_nbformat": 4
 },
 "nbformat": 4,
 "nbformat_minor": 2
}
