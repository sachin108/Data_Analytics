{
 "cells": [
  {
   "cell_type": "code",
   "execution_count": 1,
   "metadata": {},
   "outputs": [],
   "source": [
    "from pandas import *"
   ]
  },
  {
   "cell_type": "code",
   "execution_count": 2,
   "metadata": {},
   "outputs": [
    {
     "name": "stdout",
     "output_type": "stream",
     "text": [
      "   color  numbers objects\n",
      "0    red        1     car\n",
      "1   blue        2     toy\n",
      "2  green        3    aero\n",
      "3  black        4     pen\n"
     ]
    }
   ],
   "source": [
    "dict={'color':['red', 'blue', 'green', 'black'],\n",
    "        'numbers':[1,2,3,4],\n",
    "        'objects':[\"car\", 'toy', 'aero', 'pen']\n",
    "        }\n",
    "df=DataFrame(dict)\n",
    "print(df)"
   ]
  },
  {
   "cell_type": "code",
   "execution_count": 5,
   "metadata": {},
   "outputs": [
    {
     "name": "stdout",
     "output_type": "stream",
     "text": [
      "Index(['color', 'numbers', 'objects'], dtype='object')\n",
      "RangeIndex(start=0, stop=4, step=1)\n",
      "[['red' 1 'car']\n",
      " ['blue' 2 'toy']\n",
      " ['green' 3 'aero']\n",
      " ['black' 4 'pen']]\n",
      "0     car\n",
      "1     toy\n",
      "2    aero\n",
      "3     pen\n",
      "Name: objects, dtype: object\n"
     ]
    }
   ],
   "source": [
    "dict={'color':['red', 'blue', 'green', 'black'],\n",
    "        'numbers':[1,2,3,4],\n",
    "        'objects':[\"car\", 'toy', 'aero', 'pen']\n",
    "        }\n",
    "df=DataFrame(dict)\n",
    "print(df.columns)\n",
    "print(df.index)\n",
    "print(df.values)\n",
    "print(df['objects'])"
   ]
  },
  {
   "cell_type": "code",
   "execution_count": 11,
   "metadata": {},
   "outputs": [
    {
     "name": "stdout",
     "output_type": "stream",
     "text": [
      "   color  numbers  objects\n",
      "0  False    False     True\n",
      "1  False    False    False\n",
      "2   True    False    False\n",
      "3  False    False     True\n"
     ]
    }
   ],
   "source": [
    "#membership\n",
    "dict={'color':['red', 'blue', 'green', 'black'],\n",
    "        'numbers':[1,2,3,4],\n",
    "        'objects':[\"car\", 'toy', 'aero', 'pen']\n",
    "        }\n",
    "df=DataFrame(dict)\n",
    "print(df.isin([\"car\", 'pen', 'green']))"
   ]
  },
  {
   "cell_type": "code",
   "execution_count": 14,
   "metadata": {},
   "outputs": [
    {
     "name": "stdout",
     "output_type": "stream",
     "text": [
      "   color\n",
      "0    red\n",
      "1   blue\n",
      "2  green\n",
      "3  black\n"
     ]
    }
   ],
   "source": [
    "#deleting\n",
    "dict={'color':['red', 'blue', 'green', 'black'],\n",
    "        'numbers':[1,2,3,4],\n",
    "        'objects':[\"car\", 'toy', 'aero', 'pen']\n",
    "        }\n",
    "df=DataFrame(dict)\n",
    "\n",
    "del df['objects']\n",
    "del df[\"numbers\"]\n",
    "print(df)"
   ]
  },
  {
   "cell_type": "code",
   "execution_count": null,
   "metadata": {},
   "outputs": [],
   "source": [
    "#index Operations\n",
    "#droppting\n",
    "#arithmetic and dataAlignments\n"
   ]
  },
  {
   "cell_type": "code",
   "execution_count": null,
   "metadata": {},
   "outputs": [],
   "source": [
    "'''operations for dataframes\n",
    " add()\n",
    " sub()\n",
    " div()\n",
    " mul()\n",
    "\n",
    " Stats functions\n",
    " sum(), mean(), describe()\n",
    "\n",
    " Sorting and ranking\n",
    "'''"
   ]
  },
  {
   "cell_type": "code",
   "execution_count": null,
   "metadata": {},
   "outputs": [],
   "source": []
  }
 ],
 "metadata": {
  "interpreter": {
   "hash": "2be5faf79681da6f2a61fdfdd5405d65d042280f7fba6178067603e3a2925119"
  },
  "kernelspec": {
   "display_name": "Python 3.10.0 64-bit",
   "language": "python",
   "name": "python3"
  },
  "language_info": {
   "codemirror_mode": {
    "name": "ipython",
    "version": 3
   },
   "file_extension": ".py",
   "mimetype": "text/x-python",
   "name": "python",
   "nbconvert_exporter": "python",
   "pygments_lexer": "ipython3",
   "version": "3.10.0"
  },
  "orig_nbformat": 4
 },
 "nbformat": 4,
 "nbformat_minor": 2
}
